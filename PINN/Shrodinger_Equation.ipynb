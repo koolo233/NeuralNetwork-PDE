{
 "cells": [
  {
   "cell_type": "markdown",
   "metadata": {},
   "source": [
    "# Shrodinger Equation\n",
    "\n",
    "## 1-d Shrodinger Equation\n",
    "$$\n",
    "\\begin{equation}\n",
    "-\\frac{\\hbar^2}{2\\mu}\\frac{\\partial^2{\\Phi(x, t)}}{\\partial x^2} + U(x, t)\\Phi(x, t)=i\\hbar\\frac{\\partial\\Phi(x, t)}{\\partial t}\n",
    "\\end{equation}\n",
    "$$\n",
    "\n",
    "## 2-d Shrodinger Equation\n",
    "$$\n",
    "\\begin{equation}\n",
    "-\\frac{\\hbar^2}{2\\mu}(\\frac{\\partial^2{\\Phi(x, y, t)}}{\\partial x^2}+\\frac{\\partial^2{\\Phi(x, y, t)}}{\\partial y^2}) + U(x, y, t)\\Phi(x, y, t)=i\\hbar\\frac{\\partial\\Phi(x, y, t)}{\\partial t}\n",
    "\\end{equation}\n",
    "$$\n",
    "\n",
    "## 3-d Shrodinger Equation\n",
    "$$\n",
    "\\begin{equation}\n",
    "-\\frac{\\hbar^2}{2\\mu}(\\frac{\\partial^2{\\Phi}}{\\partial x^2}+\\frac{\\partial^2{\\Phi}}{\\partial y^2}+\\frac{\\partial^2{\\Phi}}{\\partial z^2}) + U(x, y, z, t)\\Phi=i\\hbar\\frac{\\partial\\Phi}{\\partial t}\n",
    "\\end{equation}\n",
    "$$\n",
    "\n",
    "## boundary conditions and initial condition for 1-d Shrodinger Equation\n",
    "\n",
    "### initial condition\n",
    "$$\n",
    "\\begin{equation}\n",
    "\\Phi(x, 0) = f(x)\n",
    "\\end{equation}\n",
    "$$\n",
    "\n",
    "### boundary conditions\n",
    "#### periodic boundary conditions\n",
    "$$\n",
    "\\begin{equation}\n",
    "\\Phi(x)\n",
    "\\end{equation}\n",
    "$$"
   ]
  }
 ],
 "metadata": {
  "language_info": {
   "name": "python"
  },
  "orig_nbformat": 4
 },
 "nbformat": 4,
 "nbformat_minor": 2
}
